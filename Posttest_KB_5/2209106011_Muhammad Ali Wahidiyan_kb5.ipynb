{
 "cells": [
  {
   "cell_type": "markdown",
   "id": "b241b143",
   "metadata": {},
   "source": [
    "## Muhammad Ali Wahidiyan\n",
    "## 2209106011\n",
    "## A1'22"
   ]
  },
  {
   "cell_type": "code",
   "execution_count": 24,
   "id": "ea36ac34",
   "metadata": {},
   "outputs": [],
   "source": [
    "import pandas as pd\n",
    "from sklearn.model_selection import train_test_split\n",
    "from sklearn.preprocessing import MinMaxScaler,OrdinalEncoder,LabelEncoder\n",
    "from sklearn.svm import SVC\n",
    "from sklearn.metrics import confusion_matrix,accuracy_score,precision_score,recall_score,f1_score\n",
    "from sklearn.metrics import classification_report\n",
    "import seaborn as sns\n",
    "import numpy as np\n",
    "import matplotlib.pyplot as plt\n",
    "from sklearn.linear_model import LinearRegression\n",
    "from sklearn.metrics import mean_squared_error, r2_score\n",
    "from sklearn.preprocessing import MinMaxScaler, StandardScaler"
   ]
  },
  {
   "cell_type": "markdown",
   "id": "af9cc2bc",
   "metadata": {},
   "source": [
    "## import semua library yang di butuhkan"
   ]
  },
  {
   "cell_type": "markdown",
   "id": "d2e13d5f",
   "metadata": {},
   "source": [
    "## Supervised Learning"
   ]
  },
  {
   "cell_type": "markdown",
   "id": "84732e65",
   "metadata": {},
   "source": [
    "## jangan lupa read dataset dan tampilkan dengan untuk cek dan memastikan bahwa dataset kita sudah benar."
   ]
  },
  {
   "cell_type": "code",
   "execution_count": 25,
   "id": "b608a9da",
   "metadata": {},
   "outputs": [
    {
     "data": {
      "text/html": [
       "<div>\n",
       "<style scoped>\n",
       "    .dataframe tbody tr th:only-of-type {\n",
       "        vertical-align: middle;\n",
       "    }\n",
       "\n",
       "    .dataframe tbody tr th {\n",
       "        vertical-align: top;\n",
       "    }\n",
       "\n",
       "    .dataframe thead th {\n",
       "        text-align: right;\n",
       "    }\n",
       "</style>\n",
       "<table border=\"1\" class=\"dataframe\">\n",
       "  <thead>\n",
       "    <tr style=\"text-align: right;\">\n",
       "      <th></th>\n",
       "      <th>Marital status</th>\n",
       "      <th>Application mode</th>\n",
       "      <th>Application order</th>\n",
       "      <th>Course</th>\n",
       "      <th>Daytime/evening attendance</th>\n",
       "      <th>Previous qualification</th>\n",
       "      <th>Nacionality</th>\n",
       "      <th>Mother's qualification</th>\n",
       "      <th>Father's qualification</th>\n",
       "      <th>Mother's occupation</th>\n",
       "      <th>...</th>\n",
       "      <th>Curricular units 2nd sem (credited)</th>\n",
       "      <th>Curricular units 2nd sem (enrolled)</th>\n",
       "      <th>Curricular units 2nd sem (evaluations)</th>\n",
       "      <th>Curricular units 2nd sem (approved)</th>\n",
       "      <th>Curricular units 2nd sem (grade)</th>\n",
       "      <th>Curricular units 2nd sem (without evaluations)</th>\n",
       "      <th>Unemployment rate</th>\n",
       "      <th>Inflation rate</th>\n",
       "      <th>GDP</th>\n",
       "      <th>Target</th>\n",
       "    </tr>\n",
       "  </thead>\n",
       "  <tbody>\n",
       "    <tr>\n",
       "      <th>0</th>\n",
       "      <td>1</td>\n",
       "      <td>8</td>\n",
       "      <td>5</td>\n",
       "      <td>2</td>\n",
       "      <td>1</td>\n",
       "      <td>1</td>\n",
       "      <td>1</td>\n",
       "      <td>13</td>\n",
       "      <td>10</td>\n",
       "      <td>6</td>\n",
       "      <td>...</td>\n",
       "      <td>0</td>\n",
       "      <td>0</td>\n",
       "      <td>0</td>\n",
       "      <td>0</td>\n",
       "      <td>0.000000</td>\n",
       "      <td>0</td>\n",
       "      <td>10.8</td>\n",
       "      <td>1.4</td>\n",
       "      <td>1.74</td>\n",
       "      <td>Dropout</td>\n",
       "    </tr>\n",
       "    <tr>\n",
       "      <th>1</th>\n",
       "      <td>1</td>\n",
       "      <td>6</td>\n",
       "      <td>1</td>\n",
       "      <td>11</td>\n",
       "      <td>1</td>\n",
       "      <td>1</td>\n",
       "      <td>1</td>\n",
       "      <td>1</td>\n",
       "      <td>3</td>\n",
       "      <td>4</td>\n",
       "      <td>...</td>\n",
       "      <td>0</td>\n",
       "      <td>6</td>\n",
       "      <td>6</td>\n",
       "      <td>6</td>\n",
       "      <td>13.666667</td>\n",
       "      <td>0</td>\n",
       "      <td>13.9</td>\n",
       "      <td>-0.3</td>\n",
       "      <td>0.79</td>\n",
       "      <td>Graduate</td>\n",
       "    </tr>\n",
       "    <tr>\n",
       "      <th>2</th>\n",
       "      <td>1</td>\n",
       "      <td>1</td>\n",
       "      <td>5</td>\n",
       "      <td>5</td>\n",
       "      <td>1</td>\n",
       "      <td>1</td>\n",
       "      <td>1</td>\n",
       "      <td>22</td>\n",
       "      <td>27</td>\n",
       "      <td>10</td>\n",
       "      <td>...</td>\n",
       "      <td>0</td>\n",
       "      <td>6</td>\n",
       "      <td>0</td>\n",
       "      <td>0</td>\n",
       "      <td>0.000000</td>\n",
       "      <td>0</td>\n",
       "      <td>10.8</td>\n",
       "      <td>1.4</td>\n",
       "      <td>1.74</td>\n",
       "      <td>Dropout</td>\n",
       "    </tr>\n",
       "    <tr>\n",
       "      <th>3</th>\n",
       "      <td>1</td>\n",
       "      <td>8</td>\n",
       "      <td>2</td>\n",
       "      <td>15</td>\n",
       "      <td>1</td>\n",
       "      <td>1</td>\n",
       "      <td>1</td>\n",
       "      <td>23</td>\n",
       "      <td>27</td>\n",
       "      <td>6</td>\n",
       "      <td>...</td>\n",
       "      <td>0</td>\n",
       "      <td>6</td>\n",
       "      <td>10</td>\n",
       "      <td>5</td>\n",
       "      <td>12.400000</td>\n",
       "      <td>0</td>\n",
       "      <td>9.4</td>\n",
       "      <td>-0.8</td>\n",
       "      <td>-3.12</td>\n",
       "      <td>Graduate</td>\n",
       "    </tr>\n",
       "    <tr>\n",
       "      <th>4</th>\n",
       "      <td>2</td>\n",
       "      <td>12</td>\n",
       "      <td>1</td>\n",
       "      <td>3</td>\n",
       "      <td>0</td>\n",
       "      <td>1</td>\n",
       "      <td>1</td>\n",
       "      <td>22</td>\n",
       "      <td>28</td>\n",
       "      <td>10</td>\n",
       "      <td>...</td>\n",
       "      <td>0</td>\n",
       "      <td>6</td>\n",
       "      <td>6</td>\n",
       "      <td>6</td>\n",
       "      <td>13.000000</td>\n",
       "      <td>0</td>\n",
       "      <td>13.9</td>\n",
       "      <td>-0.3</td>\n",
       "      <td>0.79</td>\n",
       "      <td>Graduate</td>\n",
       "    </tr>\n",
       "  </tbody>\n",
       "</table>\n",
       "<p>5 rows × 35 columns</p>\n",
       "</div>"
      ],
      "text/plain": [
       "   Marital status  Application mode  Application order  Course  \\\n",
       "0               1                 8                  5       2   \n",
       "1               1                 6                  1      11   \n",
       "2               1                 1                  5       5   \n",
       "3               1                 8                  2      15   \n",
       "4               2                12                  1       3   \n",
       "\n",
       "   Daytime/evening attendance  Previous qualification  Nacionality  \\\n",
       "0                           1                       1            1   \n",
       "1                           1                       1            1   \n",
       "2                           1                       1            1   \n",
       "3                           1                       1            1   \n",
       "4                           0                       1            1   \n",
       "\n",
       "   Mother's qualification  Father's qualification  Mother's occupation  ...  \\\n",
       "0                      13                      10                    6  ...   \n",
       "1                       1                       3                    4  ...   \n",
       "2                      22                      27                   10  ...   \n",
       "3                      23                      27                    6  ...   \n",
       "4                      22                      28                   10  ...   \n",
       "\n",
       "   Curricular units 2nd sem (credited)  Curricular units 2nd sem (enrolled)  \\\n",
       "0                                    0                                    0   \n",
       "1                                    0                                    6   \n",
       "2                                    0                                    6   \n",
       "3                                    0                                    6   \n",
       "4                                    0                                    6   \n",
       "\n",
       "   Curricular units 2nd sem (evaluations)  \\\n",
       "0                                       0   \n",
       "1                                       6   \n",
       "2                                       0   \n",
       "3                                      10   \n",
       "4                                       6   \n",
       "\n",
       "   Curricular units 2nd sem (approved)  Curricular units 2nd sem (grade)  \\\n",
       "0                                    0                          0.000000   \n",
       "1                                    6                         13.666667   \n",
       "2                                    0                          0.000000   \n",
       "3                                    5                         12.400000   \n",
       "4                                    6                         13.000000   \n",
       "\n",
       "   Curricular units 2nd sem (without evaluations)  Unemployment rate  \\\n",
       "0                                               0               10.8   \n",
       "1                                               0               13.9   \n",
       "2                                               0               10.8   \n",
       "3                                               0                9.4   \n",
       "4                                               0               13.9   \n",
       "\n",
       "   Inflation rate   GDP    Target  \n",
       "0             1.4  1.74   Dropout  \n",
       "1            -0.3  0.79  Graduate  \n",
       "2             1.4  1.74   Dropout  \n",
       "3            -0.8 -3.12  Graduate  \n",
       "4            -0.3  0.79  Graduate  \n",
       "\n",
       "[5 rows x 35 columns]"
      ]
     },
     "execution_count": 25,
     "metadata": {},
     "output_type": "execute_result"
    }
   ],
   "source": [
    "df = pd.read_csv('Predict_students_dropout_and_academic_success.csv')\n",
    "\n",
    "df.head()\n"
   ]
  },
  {
   "cell_type": "markdown",
   "id": "de2b03b7",
   "metadata": {},
   "source": [
    "##  membuat variabel X sebanyak minimal 2 yang akan digunakan sebagai fitur dalam analisis data. Fitur-fitur ini dipilih dari DataFrame df dan terdiri dari dua kolom, yaitu 'Course' dan 'GPA'. untuk variabel y saya pilih 'Target' sebagai kategorikal"
   ]
  },
  {
   "cell_type": "code",
   "execution_count": 26,
   "id": "f1a4c80b",
   "metadata": {},
   "outputs": [],
   "source": [
    "# Pilih kolom numerik sebagai fitur (misalnya 'Age' dan 'GPA')\n",
    "X = df[['Course', 'GDP']]\n",
    "# Kolom label kategorikal\n",
    "y = df['Target']\n"
   ]
  },
  {
   "cell_type": "markdown",
   "id": "2d32a329",
   "metadata": {},
   "source": [
    "## proses pembagian data menjadi dua set, yaitu set pelatihan (training set) dan set pengujian (test set), yang sering digunakan dalam pembuatan model prediktif. Mari saya berikan penjelasan langkah demi langkah,X_train, X_test, y_train, y_test = train_test_split(X, y, test_size=0.2, random_state=42):adalah penggunaan fungsi train_test_split dari pustaka scikit-learn (biasanya diimpor sebagai fromsklearn.model_selection import train_test_split).X adalah kumpulan fitur yang akan digunakan untuk pelatihan dan pengujian model.y adalah label yang sesuai dengan kumpulan fitur X."
   ]
  },
  {
   "cell_type": "code",
   "execution_count": 27,
   "id": "4a24d5ab",
   "metadata": {},
   "outputs": [],
   "source": [
    "X_train, X_test, y_train, y_test = train_test_split(X, y, test_size=0.2, random_state=42)"
   ]
  },
  {
   "cell_type": "markdown",
   "id": "056384e2",
   "metadata": {},
   "source": [
    "## jangan lupa standard scaler menjadi data(0 dan standard deviasi 1,kemudian standar kan variabel X_train dan juga penskalaan pada X_test"
   ]
  },
  {
   "cell_type": "code",
   "execution_count": 28,
   "id": "dd0c2f13",
   "metadata": {},
   "outputs": [],
   "source": [
    "scaler = StandardScaler()\n",
    "X_train = scaler.fit_transform(X_train)\n",
    "X_test = scaler.transform(X_test)\n"
   ]
  },
  {
   "cell_type": "markdown",
   "id": "aeeb3158",
   "metadata": {},
   "source": [
    "##  panggil kernel support vector machine dan inputkan dalam variabel X_train,y_train,dan lakukan prediksi pada variabel X_test dan di simpan pada variabel y_pred"
   ]
  },
  {
   "cell_type": "code",
   "execution_count": 29,
   "id": "b977aed0",
   "metadata": {},
   "outputs": [],
   "source": [
    "svc = SVC()\n",
    "svc.fit(X_train, y_train)\n",
    "y_pred = svc.predict(X_test)\n"
   ]
  },
  {
   "cell_type": "markdown",
   "id": "7a97f0cb",
   "metadata": {},
   "source": [
    "## memeriksa accuracy score pada variabel yang di test,dan klasifisikan kemudian print accuracy dan juga print juga classification report"
   ]
  },
  {
   "cell_type": "code",
   "execution_count": 30,
   "id": "59b621d4",
   "metadata": {},
   "outputs": [
    {
     "name": "stdout",
     "output_type": "stream",
     "text": [
      "Accuracy: 0.49\n",
      "              precision    recall  f1-score   support\n",
      "\n",
      "     Dropout       0.45      0.11      0.18       316\n",
      "    Enrolled       0.00      0.00      0.00       151\n",
      "    Graduate       0.50      0.96      0.65       418\n",
      "\n",
      "    accuracy                           0.49       885\n",
      "   macro avg       0.32      0.36      0.28       885\n",
      "weighted avg       0.40      0.49      0.37       885\n",
      "\n"
     ]
    },
    {
     "name": "stderr",
     "output_type": "stream",
     "text": [
      "C:\\Users\\Lenovo\\anaconda3\\lib\\site-packages\\sklearn\\metrics\\_classification.py:1318: UndefinedMetricWarning: Precision and F-score are ill-defined and being set to 0.0 in labels with no predicted samples. Use `zero_division` parameter to control this behavior.\n",
      "  _warn_prf(average, modifier, msg_start, len(result))\n",
      "C:\\Users\\Lenovo\\anaconda3\\lib\\site-packages\\sklearn\\metrics\\_classification.py:1318: UndefinedMetricWarning: Precision and F-score are ill-defined and being set to 0.0 in labels with no predicted samples. Use `zero_division` parameter to control this behavior.\n",
      "  _warn_prf(average, modifier, msg_start, len(result))\n",
      "C:\\Users\\Lenovo\\anaconda3\\lib\\site-packages\\sklearn\\metrics\\_classification.py:1318: UndefinedMetricWarning: Precision and F-score are ill-defined and being set to 0.0 in labels with no predicted samples. Use `zero_division` parameter to control this behavior.\n",
      "  _warn_prf(average, modifier, msg_start, len(result))\n"
     ]
    }
   ],
   "source": [
    "accuracy = accuracy_score(y_test, y_pred)\n",
    "classification_rep = classification_report(y_test, y_pred)\n",
    "print(f'Accuracy: {accuracy:.2f}')\n",
    "print(classification_rep)"
   ]
  },
  {
   "cell_type": "markdown",
   "id": "6a6fa0b4",
   "metadata": {},
   "source": [
    "## classification report menggambarkan:\n",
    "## -Akurasi Dalam kasus ini, tingkat akurasi adalah 0,49, yang berarti model ini memprediksi dengan benar sekitar 49% dari semua kelas.\n",
    "\n",
    "## Dropout\n",
    "## -Presisi (precision) untuk kelas \"Dropout\" adalah 0,45, yang berarti bahwa dari semua yang diprediksi sebagai \"Dropout\", 45% di antaranya benar-benar \"Dropout\".\n",
    "## -Recall (recall) untuk kelas \"Dropout\" adalah 0,11, yang berarti bahwa dari semua yang seharusnya \"Dropout\", model hanya berhasil mendeteksi 11% dari mereka.\n",
    "## -F1-score untuk kelas \"Dropout\" adalah 0,18, yang merupakan rata-rata harmonis dari presisi dan recall.\n",
    "\n",
    "## Enrolled\n",
    "## Presisi (precision) untuk kelas \"Enrolled\" adalah 0,00, yang berarti bahwa model tidak memprediksi kelas \"Enrolled\" dengan benar.\n",
    "## Recall (recall) untuk kelas \"Enrolled\" juga adalah 0,00, yang berarti model tidak berhasil mendeteksi kelas \"Enrolled\".\n",
    "## F1-score untuk kelas \"Enrolled\" adalah 0,00.\n",
    "\n",
    "## Support: sebagai jumlah sampel yang ada dalam kelas\n",
    "\n",
    "\n",
    "## Graduate\n",
    "\n",
    "## Presisi (precision) untuk kelas \"Graduate\" adalah 0,50, yang berarti bahwa dari semua yang diprediksi sebagai \"Graduate\", 50% di antaranya benar-benar \"Graduate\".\n",
    "## Recall (recall) untuk kelas \"Graduate\" adalah 0,96, yang berarti bahwa model berhasil mendeteksi 96% dari semua yang seharusnya \"Graduate\".\n",
    "## F1-score untuk kelas \"Graduate\" adalah 0,65."
   ]
  },
  {
   "cell_type": "code",
   "execution_count": 31,
   "id": "96c2e5e1",
   "metadata": {},
   "outputs": [
    {
     "name": "stdout",
     "output_type": "stream",
     "text": [
      "[[ 36   0 280]\n",
      " [ 26   0 125]\n",
      " [ 18   0 400]]\n"
     ]
    }
   ],
   "source": [
    "confusion = confusion_matrix(y_test, y_pred)\n",
    "\n",
    "\n",
    "print(confusion)"
   ]
  },
  {
   "cell_type": "markdown",
   "id": "ce99ae64",
   "metadata": {},
   "source": [
    "## Ada 36 data yang sebenarnya masuk ke dalam kelas \"A\" (baris pertama) dan model dengan benar memprediksi mereka sebagai kelas \"A\" (kolom pertama). Ini adalah True Positives (TP) untuk kelas \"A.\"\n",
    "\n",
    "## Ada 0 data yang sebenarnya masuk ke dalam kelas \"A\" (baris pertama), tetapi model salah memprediksi mereka sebagai kelas \"B\" (kolom kedua). Ini adalah False Negatives (FN) untuk kelas \"A\" dan False Positives (FP) untuk kelas \"B.\"\n",
    "\n",
    "## Ada 280 data yang sebenarnya masuk ke dalam kelas \"A\" (baris pertama), tetapi model salah memprediksi mereka sebagai kelas \"C\" (kolom ketiga). Ini adalah False Negatives (FN) untuk kelas \"A\" dan False Positives (FP) untuk kelas \"C.\"\n",
    "\n",
    "## Ada 26 data yang sebenarnya masuk ke dalam kelas \"B\" (baris kedua), tetapi model salah memprediksi mereka sebagai kelas \"A\" (kolom pertama). Ini adalah False Negatives (FN) untuk kelas \"B\" dan False Positives (FP) untuk kelas \"A.\"\n",
    "\n",
    "## Ada 0 data yang sebenarnya masuk ke dalam kelas \"B\" (baris kedua) dan model dengan benar memprediksi mereka sebagai kelas \"B\" (kolom kedua). Ini adalah True Positives (TP) untuk kelas \"B.\"\n",
    "\n",
    "## Ada 125 data yang sebenarnya masuk ke dalam kelas \"B\" (baris kedua), tetapi model salah memprediksi mereka sebagai kelas \"C\" (kolom ketiga). Ini adalah False Negatives (FN) untuk kelas \"B\" dan False Positives (FP) untuk kelas \"C.\"\n",
    "\n",
    "## Ada 18 data yang sebenarnya masuk ke dalam kelas \"C\" (baris ketiga), tetapi model salah memprediksi mereka sebagai kelas \"A\" (kolom pertama). Ini adalah False Negatives (FN) untuk kelas \"C\" dan False Positives (FP) untuk kelas \"A.\"\n",
    "\n",
    "## Ada 0 data yang sebenarnya masuk ke dalam kelas \"C\" (baris ketiga), tetapi model dengan benar memprediksi mereka sebagai kelas \"B\" (kolom kedua). Ini adalah True Positives (TP) untuk kelas \"C.\"\n",
    "\n",
    "## Ada 400 data yang sebenarnya masuk ke dalam kelas \"C\" (baris ketiga) dan model dengan benar memprediksi mereka sebagai kelas \"C\" (kolom ketiga). Ini adalah True Positives (TP) untuk kelas \"C.\"\n",
    "\n"
   ]
  },
  {
   "cell_type": "code",
   "execution_count": 32,
   "id": "16fc492b",
   "metadata": {},
   "outputs": [
    {
     "data": {
      "text/plain": [
       "Text(50.722222222222214, 0.5, 'kelas aktual')"
      ]
     },
     "execution_count": 32,
     "metadata": {},
     "output_type": "execute_result"
    },
    {
     "data": {
      "image/png": "[encoded data removed]",
      "text/plain": [
       "<Figure size 640x480 with 2 Axes>"
      ]
     },
     "metadata": {},
     "output_type": "display_data"
    }
   ],
   "source": [
    "cm = confusion_matrix(y_test, y_pred)\n",
    "sns.heatmap(cm, annot=True)\n",
    "plt.xlabel('kelas prediksi')\n",
    "plt.ylabel('kelas aktual')"
   ]
  },
  {
   "cell_type": "code",
   "execution_count": 33,
   "id": "d7e50c45",
   "metadata": {},
   "outputs": [
    {
     "data": {
      "image/png": "[encoded data removed]",
      "text/plain": [
       "<Figure size 800x600 with 2 Axes>"
      ]
     },
     "metadata": {},
     "output_type": "display_data"
    }
   ],
   "source": [
    "plt.figure(figsize=(8, 6))\n",
    "plt.scatter([0, 0, 0, 1, 1, 1, 2, 2, 2], [0, 1, 2, 0, 1, 2, 0, 1, 2], s=confusion*100, c=confusion, cmap='Blues', alpha=0.7)\n",
    "plt.xticks([0, 1, 2], ['Class 0', 'Class 1', 'Class 2'])\n",
    "plt.yticks([0, 1, 2], ['Class 0', 'Class 1', 'Class 2'])\n",
    "plt.xlabel('Aktual')\n",
    "plt.ylabel('Prediksi')\n",
    "plt.title('Scatter Plot')\n",
    "plt.colorbar(label='Jumlah Data')\n",
    "plt.show()\n",
    "\n"
   ]
  },
  {
   "cell_type": "code",
   "execution_count": null,
   "id": "7c77c1e5",
   "metadata": {},
   "outputs": [],
   "source": []
  },
  {
   "cell_type": "markdown",
   "id": "b099bb29",
   "metadata": {},
   "source": [
    "## Unsupervised Learning"
   ]
  },
  {
   "cell_type": "code",
   "execution_count": 36,
   "id": "7e5c6e0d",
   "metadata": {},
   "outputs": [],
   "source": [
    "from sklearn.cluster import KMeans"
   ]
  },
  {
   "cell_type": "code",
   "execution_count": 37,
   "id": "b5e833fc",
   "metadata": {},
   "outputs": [
    {
     "name": "stdout",
     "output_type": "stream",
     "text": [
      "2    736\n",
      "1    734\n",
      "3    726\n",
      "6    654\n",
      "0    648\n",
      "4    515\n",
      "5    411\n",
      "Name: cluster, dtype: int64\n"
     ]
    },
    {
     "data": {
      "image/png": "[encoded data removed]",
      "text/plain": [
       "<Figure size 640x480 with 1 Axes>"
      ]
     },
     "metadata": {},
     "output_type": "display_data"
    }
   ],
   "source": [
    "df = pd.read_csv('Predict_students_dropout_and_academic_success.csv')\n",
    "X = df[['Course', 'GDP']] \n",
    "K = 7\n",
    "\n",
    "kmeans = KMeans(n_clusters=K, random_state=0)\n",
    "\n",
    "df['cluster'] = kmeans.fit_predict(X)\n",
    "\n",
    "print(df['cluster'].value_counts())\n",
    "\n",
    "plt.scatter(X['Course'], X['GDP'], c=df['cluster'], cmap='rainbow')\n",
    "plt.xlabel('COURSE')\n",
    "plt.ylabel('GDP')\n",
    "plt.title('K-Means Clustering (K={})'.format(K))\n",
    "plt.show()\n"
   ]
  },
  {
   "cell_type": "markdown",
   "id": "bc97934f",
   "metadata": {},
   "source": [
    "## Hasil klustering K-Means pada dataset ini menghasilkan distribusi data sebagai berikut:\n",
    "\n",
    "## Kluster 0: 648 data\n",
    "## Kluster 1: 734 data\n",
    "## Kluster 2: 736 data\n",
    "## Kluster 3: 726 data\n",
    "## Kluster 4: 515 data\n",
    "## Kluster 5: 411 data\n",
    "## Kluster 6: 654 data"
   ]
  },
  {
   "cell_type": "code",
   "execution_count": null,
   "id": "3c7b9a4e",
   "metadata": {},
   "outputs": [],
   "source": [
    "## evaluasi Tanpa label asli dataset, menggunakan 3 metrik "
   ]
  },
  {
   "cell_type": "code",
   "execution_count": 38,
   "id": "710cd397",
   "metadata": {},
   "outputs": [
    {
     "name": "stdout",
     "output_type": "stream",
     "text": [
      "Silhouette Score: 0.43071014107343764\n",
      "Inertia: 11892.694151368763\n",
      "Davies-Bouldin Index: 0.7561481332242412\n"
     ]
    }
   ],
   "source": [
    "from sklearn.metrics import davies_bouldin_score\n",
    "from sklearn.metrics import silhouette_score\n",
    "silhouette_avg = silhouette_score(X, df['cluster'])\n",
    "print(\"Silhouette Score:\", silhouette_avg)\n",
    "inertia = kmeans.inertia_\n",
    "print(\"Inertia:\", inertia)\n",
    "davies_bouldin = davies_bouldin_score(X, df['cluster'])\n",
    "print(\"Davies-Bouldin Index:\", davies_bouldin)"
   ]
  },
  {
   "cell_type": "markdown",
   "id": "2a707439",
   "metadata": {},
   "source": [
    "## Silhouette Score (0.43): Nilai positif menunjukkan bahwa klaster terpisah dengan baik dan objek dalam klaster yang sama saling mendekati, menunjukkan tingkat pemisahan yang cukup baik.\n",
    "\n",
    "## Inertia (11892.69): Inertia mengukur sejauh mana sampel dalam klaster mendekati pusat klaster mereka. Nilai ini sekitar 11892.69, menunjukkan tingkat kompak klaster.\n",
    "\n",
    "## Davies-Bouldin Index (0.76): Nilai rendah menunjukkan bahwa klaster terpisah dengan baik dan bersaing satu sama lain. Nilai ini sekitar 0.76, menunjukkan pemisahan yang cukup baik antara klaster."
   ]
  },
  {
   "cell_type": "code",
   "execution_count": null,
   "id": "bbbdcfe0",
   "metadata": {},
   "outputs": [],
   "source": [
    "## evaluasi Dengan label asli dataset, menggunakan 4 metrik evaluasi "
   ]
  },
  {
   "cell_type": "code",
   "execution_count": 40,
   "id": "41039915",
   "metadata": {},
   "outputs": [
    {
     "name": "stdout",
     "output_type": "stream",
     "text": [
      "Adjusted Rand Index (ARI): 0.007141462778990831\n",
      "Normalized Mutual Information (NMI): 0.00871820277361501\n",
      "Homogeneity Score: 0.01260015631384028\n",
      "Completeness Score: 0.006664845623280976\n"
     ]
    }
   ],
   "source": [
    "from sklearn.metrics import adjusted_rand_score\n",
    "from sklearn.metrics import normalized_mutual_info_score\n",
    "from sklearn.metrics import homogeneity_score\n",
    "from sklearn.metrics import completeness_score\n",
    "\n",
    "ari = adjusted_rand_score(df['Target'], df['cluster'])\n",
    "print(\"Adjusted Rand Index (ARI):\", ari)\n",
    "nmi = normalized_mutual_info_score(df['Target'], df['cluster'])\n",
    "print(\"Normalized Mutual Information (NMI):\", nmi)\n",
    "homogeneity = homogeneity_score(df['Target'], df['cluster'])\n",
    "print(\"Homogeneity Score:\", homogeneity)\n",
    "completeness = completeness_score(df['Target'], df['cluster'])\n",
    "print(\"Completeness Score:\", completeness)"
   ]
  },
  {
   "cell_type": "markdown",
   "id": "8bb589a1",
   "metadata": {},
   "source": [
    "## Hasil evaluasi klaster ini menunjukkan bahwa kesesuaian antara klaster yang diprediksi oleh algoritma K-Means dengan label asli dataset sangat rendah.\n",
    "\n",
    "## Adjusted Rand Index (ARI) 0.0071: Nilai ini mendekati nol, menunjukkan bahwa klaster yang diprediksi memiliki kesamaan yang sangat rendah dengan klaster sebenarnya.\n",
    "\n",
    "## Normalized Mutual Information (NMI) 0.0087: Nilai ini juga sangat rendah, menunjukkan tingkat kesesuaian yang sangat rendah antara klaster prediksi dan klaster sebenarnya.\n",
    "\n",
    "## Homogeneity Score 0.0126: Skor homogenitas yang mendekati nol menunjukkan bahwa objek dalam klaster yang sama memiliki label yang sangat beragam.\n",
    "\n",
    "## Completeness Score 0.0067: Skor kelengkapan yang mendekati nol menunjukkan bahwa banyak anggota kelas yang sama tidak termasuk dalam klaster yang sama."
   ]
  },
  {
   "cell_type": "code",
   "execution_count": null,
   "id": "104b63c7",
   "metadata": {},
   "outputs": [],
   "source": []
  }
 ],
 "metadata": {
  "kernelspec": {
   "display_name": "Python 3 (ipykernel)",
   "language": "python",
   "name": "python3"
  },
  "language_info": {
   "codemirror_mode": {
    "name": "ipython",
    "version": 3
   },
   "file_extension": ".py",
   "mimetype": "text/x-python",
   "name": "python",
   "nbconvert_exporter": "python",
   "pygments_lexer": "ipython3",
   "version": "3.9.13"
  }
 },
 "nbformat": 4,
 "nbformat_minor": 5
}
